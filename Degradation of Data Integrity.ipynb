import math
import numpy as np
import matplotlib.pyplot as plt

t = np.linspace(0, 100) #plotting the functions over t
def line1(t): #first function from x(t)
    y1=pow(math.e, -t/20)
    return y1
def line2(t): #second function from x(t)
    y2=-pow(math.e,-t/20)
    return y2

#creating plot
plt.plot(t, line1(t), label = "e^-t/20")
plt.plot(t, line2(t), label = "-e^-t/20")
plt.grid()
plt.legend()
plt.show()

